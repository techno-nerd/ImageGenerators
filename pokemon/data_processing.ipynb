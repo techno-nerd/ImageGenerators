{
 "cells": [
  {
   "cell_type": "markdown",
   "metadata": {},
   "source": [
    "## One-time Data Processing\n",
    "\n",
    "This file contains image manipulation code that was run to create the `processed_data` folder. It ensures that all files have the same dimensions, and randomly duplicates and flips some of the images to increase the dataset size."
   ]
  },
  {
   "cell_type": "code",
   "execution_count": 3,
   "metadata": {},
   "outputs": [],
   "source": [
    "import os\n",
    "from PIL import Image\n",
    "import numpy as np\n",
    "\n",
    "#Constants\n",
    "\n",
    "INPUT_DIR = \"data/\"\n",
    "OUTPUT_DIR = \"processed_data/\"\n",
    "os.makedirs(OUTPUT_DIR, exist_ok=True)\n",
    "\n",
    "# Image Size\n",
    "TARGET_SIZE = (128, 128)"
   ]
  },
  {
   "cell_type": "code",
   "execution_count": 4,
   "metadata": {},
   "outputs": [],
   "source": [
    "def resize_images(input_dir, output_dir, target_size):\n",
    "    for filename in os.listdir(input_dir):\n",
    "        file_path = os.path.join(input_dir, filename)\n",
    "        if os.path.isfile(file_path) and filename.lower().endswith(('.png', '.jpg', '.jpeg')):\n",
    "            #Replacing transparent background with white background\n",
    "            img = Image.open(file_path).convert(\"RGBA\")\n",
    "            white_bg = Image.new(\"RGBA\", img.size, (255, 255, 255, 255))\n",
    "            img = Image.alpha_composite(white_bg, img)\n",
    "            \n",
    "            # Resize to target size\n",
    "            img = img.convert(\"RGB\")\n",
    "            img = img.resize(target_size)\n",
    "            \n",
    "            # Save the resized image\n",
    "            img.save(os.path.join(output_dir, filename))\n",
    "\n",
    "\n",
    "resize_images(INPUT_DIR, OUTPUT_DIR, TARGET_SIZE)"
   ]
  },
  {
   "cell_type": "code",
   "execution_count": 5,
   "metadata": {},
   "outputs": [],
   "source": [
    "import random\n",
    "\n",
    "def generate_flipped_images(output_dir):\n",
    "    for filename in os.listdir(output_dir):\n",
    "        file_path = os.path.join(output_dir, filename)\n",
    "        #50-50 chance of making a flipped image\n",
    "        if os.path.isfile(file_path) and filename.lower().endswith(('.png', '.jpg', '.jpeg')) and bool(random.getrandbits(1)):\n",
    "            img = Image.open(file_path)\n",
    "            \n",
    "            # Flip image horizontally\n",
    "            img_flipped = img.transpose(Image.FLIP_LEFT_RIGHT)\n",
    "            \n",
    "            # Save the flipped image with a new name\n",
    "            new_filename = f\"flipped_{filename}\"\n",
    "            img_flipped.save(os.path.join(output_dir, new_filename))\n",
    "\n",
    "\n",
    "generate_flipped_images(OUTPUT_DIR)"
   ]
  }
 ],
 "metadata": {
  "kernelspec": {
   "display_name": "Python 3",
   "language": "python",
   "name": "python3"
  },
  "language_info": {
   "codemirror_mode": {
    "name": "ipython",
    "version": 3
   },
   "file_extension": ".py",
   "mimetype": "text/x-python",
   "name": "python",
   "nbconvert_exporter": "python",
   "pygments_lexer": "ipython3",
   "version": "3.12.1"
  }
 },
 "nbformat": 4,
 "nbformat_minor": 2
}
